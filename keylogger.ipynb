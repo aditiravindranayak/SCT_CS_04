{
  "nbformat": 4,
  "nbformat_minor": 0,
  "metadata": {
    "colab": {
      "provenance": []
    },
    "kernelspec": {
      "name": "python3",
      "display_name": "Python 3"
    },
    "language_info": {
      "name": "python"
    }
  },
  "cells": [
    {
      "cell_type": "code",
      "execution_count": 1,
      "metadata": {
        "colab": {
          "base_uri": "https://localhost:8080/"
        },
        "id": "Sk2RLuBD7Sal",
        "outputId": "79120918-f438-49da-b41f-890517fca07b"
      },
      "outputs": [
        {
          "output_type": "stream",
          "name": "stdout",
          "text": [
            "Collecting pynput\n",
            "  Downloading pynput-1.7.7-py2.py3-none-any.whl (90 kB)\n",
            "\u001b[?25l     \u001b[90m━━━━━━━━━━━━━━━━━━━━━━━━━━━━━━━━━━━━━━━━\u001b[0m \u001b[32m0.0/90.2 kB\u001b[0m \u001b[31m?\u001b[0m eta \u001b[36m-:--:--\u001b[0m\r\u001b[2K     \u001b[91m━━━━━━━━━━━━━━━━━━━━━━━━━━━━━━━━━━━━\u001b[0m\u001b[90m╺\u001b[0m\u001b[90m━━━\u001b[0m \u001b[32m81.9/90.2 kB\u001b[0m \u001b[31m2.4 MB/s\u001b[0m eta \u001b[36m0:00:01\u001b[0m\r\u001b[2K     \u001b[90m━━━━━━━━━━━━━━━━━━━━━━━━━━━━━━━━━━━━━━━━\u001b[0m \u001b[32m90.2/90.2 kB\u001b[0m \u001b[31m1.6 MB/s\u001b[0m eta \u001b[36m0:00:00\u001b[0m\n",
            "\u001b[?25hRequirement already satisfied: six in /usr/local/lib/python3.10/dist-packages (from pynput) (1.16.0)\n",
            "Collecting evdev>=1.3 (from pynput)\n",
            "  Downloading evdev-1.7.1.tar.gz (30 kB)\n",
            "  Installing build dependencies ... \u001b[?25l\u001b[?25hdone\n",
            "  Getting requirements to build wheel ... \u001b[?25l\u001b[?25hdone\n",
            "  Preparing metadata (pyproject.toml) ... \u001b[?25l\u001b[?25hdone\n",
            "Collecting python-xlib>=0.17 (from pynput)\n",
            "  Downloading python_xlib-0.33-py2.py3-none-any.whl (182 kB)\n",
            "\u001b[2K     \u001b[90m━━━━━━━━━━━━━━━━━━━━━━━━━━━━━━━━━━━━━━━━\u001b[0m \u001b[32m182.2/182.2 kB\u001b[0m \u001b[31m8.3 MB/s\u001b[0m eta \u001b[36m0:00:00\u001b[0m\n",
            "\u001b[?25hBuilding wheels for collected packages: evdev\n",
            "  Building wheel for evdev (pyproject.toml) ... \u001b[?25l\u001b[?25hdone\n",
            "  Created wheel for evdev: filename=evdev-1.7.1-cp310-cp310-linux_x86_64.whl size=92963 sha256=7f57cdccbeccb069d719f9c228c6be370d82bc0b23861d97a6a02316dcd0d47d\n",
            "  Stored in directory: /root/.cache/pip/wheels/97/dc/9f/d5066d7977e11ec038fb217f420e1b4e4fb401133594bb0b33\n",
            "Successfully built evdev\n",
            "Installing collected packages: python-xlib, evdev, pynput\n",
            "Successfully installed evdev-1.7.1 pynput-1.7.7 python-xlib-0.33\n"
          ]
        }
      ],
      "source": [
        "pip install pynput"
      ]
    },
    {
      "cell_type": "code",
      "source": [
        "# Path to the log file\n",
        "log_file = 'keylog.txt'\n",
        "\n",
        "def log_keypresses():\n",
        "    with open(log_file, 'a') as f:\n",
        "        while True:\n",
        "            key = input(\"Press a key (Enter to stop logging): \")\n",
        "            if key == '':\n",
        "                break\n",
        "            f.write(f'{key} ')\n",
        "\n",
        "# Start logging key presses\n",
        "log_keypresses()\n"
      ],
      "metadata": {
        "colab": {
          "base_uri": "https://localhost:8080/"
        },
        "id": "vdOv5Si48M2x",
        "outputId": "7a5e9492-66a8-49c2-ca94-8ed77e1de960"
      },
      "execution_count": 5,
      "outputs": [
        {
          "name": "stdout",
          "output_type": "stream",
          "text": [
            "Press a key (Enter to stop logging): A\n",
            "Press a key (Enter to stop logging): B\n",
            "Press a key (Enter to stop logging): C\n",
            "Press a key (Enter to stop logging): \n"
          ]
        }
      ]
    }
  ]
}